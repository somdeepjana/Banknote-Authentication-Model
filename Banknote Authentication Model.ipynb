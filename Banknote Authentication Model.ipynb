{
 "cells": [
  {
   "cell_type": "markdown",
   "metadata": {
    "colab_type": "text",
    "id": "C92GhaNTF83g"
   },
   "source": [
    "# Banknote Authentication Model\n",
    "\n"
   ]
  },
  {
   "cell_type": "markdown",
   "metadata": {},
   "source": [
    "## Introduction:\n",
    "    This project is created for checking multiple classifiers on the UCI Banknote Authentication Data Set( https://archive.ics.uci.edu/ml/datasets/banknote+authentication). "
   ]
  },
  {
   "cell_type": "code",
   "execution_count": 16,
   "metadata": {},
   "outputs": [
    {
     "data": {
      "text/html": [
       "\n",
       "        <iframe\n",
       "            width=\"800\"\n",
       "            height=\"450\"\n",
       "            src=\"https://archive.ics.uci.edu/ml/datasets/banknote+authentication\"\n",
       "            frameborder=\"0\"\n",
       "            allowfullscreen\n",
       "        ></iframe>\n",
       "        "
      ],
      "text/plain": [
       "<IPython.lib.display.IFrame at 0x1e6e33d1a08>"
      ]
     },
     "execution_count": 16,
     "metadata": {},
     "output_type": "execute_result"
    }
   ],
   "source": [
    "from IPython.display import IFrame\n",
    "IFrame('https://archive.ics.uci.edu/ml/datasets/banknote+authentication', width=800, height=450)"
   ]
  },
  {
   "cell_type": "markdown",
   "metadata": {},
   "source": [
    "## Objective:\n",
    "    Main objective of this project is to evaluate, which classifier provides the best optimal solution for classifying whether a note is authentic or not."
   ]
  },
  {
   "cell_type": "markdown",
   "metadata": {
    "colab_type": "text",
    "id": "jvmP1y-MF83i"
   },
   "source": [
    "## Importing Necessary Packages\n",
    "    We are going to use python for this project. so first step is to getting all the necessary pckages"
   ]
  },
  {
   "cell_type": "code",
   "execution_count": 17,
   "metadata": {
    "colab": {
     "base_uri": "https://localhost:8080/",
     "height": 34
    },
    "colab_type": "code",
    "executionInfo": {
     "elapsed": 1663,
     "status": "ok",
     "timestamp": 1583905333454,
     "user": {
      "displayName": "Somdeep Jana",
      "photoUrl": "https://lh3.googleusercontent.com/a-/AOh14GjXWFWU6LAOctjP_oawRxxAfvdoVHQdiqBCxjxZug=s64",
      "userId": "02840926678953105957"
     },
     "user_tz": -330
    },
    "id": "P4ACAyhDHFg1",
    "outputId": "282b812b-1127-4629-b2dc-54642186f4db"
   },
   "outputs": [
    {
     "data": {
      "text/plain": [
       "'1.16.5'"
      ]
     },
     "execution_count": 17,
     "metadata": {},
     "output_type": "execute_result"
    }
   ],
   "source": [
    "import numpy as np\n",
    "np.__version__"
   ]
  },
  {
   "cell_type": "code",
   "execution_count": 18,
   "metadata": {
    "colab": {
     "base_uri": "https://localhost:8080/",
     "height": 34
    },
    "colab_type": "code",
    "executionInfo": {
     "elapsed": 2001,
     "status": "ok",
     "timestamp": 1583905303863,
     "user": {
      "displayName": "Somdeep Jana",
      "photoUrl": "https://lh3.googleusercontent.com/a-/AOh14GjXWFWU6LAOctjP_oawRxxAfvdoVHQdiqBCxjxZug=s64",
      "userId": "02840926678953105957"
     },
     "user_tz": -330
    },
    "id": "SINRGTdOHJCw",
    "outputId": "c363f3e6-b2d8-420e-f046-b4b69b619c4c"
   },
   "outputs": [
    {
     "data": {
      "text/plain": [
       "'0.25.1'"
      ]
     },
     "execution_count": 18,
     "metadata": {},
     "output_type": "execute_result"
    }
   ],
   "source": [
    "import pandas as pd # for loading the CSV data\n",
    "pd.__version__"
   ]
  },
  {
   "cell_type": "code",
   "execution_count": 19,
   "metadata": {
    "colab": {},
    "colab_type": "code",
    "id": "dTpWnp29HBBn"
   },
   "outputs": [],
   "source": [
    "from sklearn import preprocessing # for spliting data into Training set and Test set"
   ]
  },
  {
   "cell_type": "markdown",
   "metadata": {
    "colab_type": "text",
    "id": "ZgbwbzuFF83n"
   },
   "source": [
    "## Loding The DataSet\n",
    "    The data set is in CSV(Comma seperated Value) format. We are using pandas for importing this dataset"
   ]
  },
  {
   "cell_type": "code",
   "execution_count": 20,
   "metadata": {
    "colab": {
     "base_uri": "https://localhost:8080/",
     "height": 204
    },
    "colab_type": "code",
    "executionInfo": {
     "elapsed": 1236,
     "status": "ok",
     "timestamp": 1583908829745,
     "user": {
      "displayName": "Somdeep Jana",
      "photoUrl": "https://lh3.googleusercontent.com/a-/AOh14GjXWFWU6LAOctjP_oawRxxAfvdoVHQdiqBCxjxZug=s64",
      "userId": "02840926678953105957"
     },
     "user_tz": -330
    },
    "id": "upKNLP5bF83o",
    "outputId": "c70e9f24-c473-42c5-b0ef-14138f754c37"
   },
   "outputs": [
    {
     "data": {
      "text/html": [
       "<div>\n",
       "<style scoped>\n",
       "    .dataframe tbody tr th:only-of-type {\n",
       "        vertical-align: middle;\n",
       "    }\n",
       "\n",
       "    .dataframe tbody tr th {\n",
       "        vertical-align: top;\n",
       "    }\n",
       "\n",
       "    .dataframe thead th {\n",
       "        text-align: right;\n",
       "    }\n",
       "</style>\n",
       "<table border=\"1\" class=\"dataframe\">\n",
       "  <thead>\n",
       "    <tr style=\"text-align: right;\">\n",
       "      <th></th>\n",
       "      <th>Variance</th>\n",
       "      <th>Skewness</th>\n",
       "      <th>Curtosis</th>\n",
       "      <th>Entropy</th>\n",
       "      <th>Class</th>\n",
       "    </tr>\n",
       "  </thead>\n",
       "  <tbody>\n",
       "    <tr>\n",
       "      <td>0</td>\n",
       "      <td>3.62160</td>\n",
       "      <td>8.6661</td>\n",
       "      <td>-2.8073</td>\n",
       "      <td>-0.44699</td>\n",
       "      <td>0</td>\n",
       "    </tr>\n",
       "    <tr>\n",
       "      <td>1</td>\n",
       "      <td>4.54590</td>\n",
       "      <td>8.1674</td>\n",
       "      <td>-2.4586</td>\n",
       "      <td>-1.46210</td>\n",
       "      <td>0</td>\n",
       "    </tr>\n",
       "    <tr>\n",
       "      <td>2</td>\n",
       "      <td>3.86600</td>\n",
       "      <td>-2.6383</td>\n",
       "      <td>1.9242</td>\n",
       "      <td>0.10645</td>\n",
       "      <td>0</td>\n",
       "    </tr>\n",
       "    <tr>\n",
       "      <td>3</td>\n",
       "      <td>3.45660</td>\n",
       "      <td>9.5228</td>\n",
       "      <td>-4.0112</td>\n",
       "      <td>-3.59440</td>\n",
       "      <td>0</td>\n",
       "    </tr>\n",
       "    <tr>\n",
       "      <td>4</td>\n",
       "      <td>0.32924</td>\n",
       "      <td>-4.4552</td>\n",
       "      <td>4.5718</td>\n",
       "      <td>-0.98880</td>\n",
       "      <td>0</td>\n",
       "    </tr>\n",
       "  </tbody>\n",
       "</table>\n",
       "</div>"
      ],
      "text/plain": [
       "   Variance  Skewness  Curtosis  Entropy  Class\n",
       "0   3.62160    8.6661   -2.8073 -0.44699      0\n",
       "1   4.54590    8.1674   -2.4586 -1.46210      0\n",
       "2   3.86600   -2.6383    1.9242  0.10645      0\n",
       "3   3.45660    9.5228   -4.0112 -3.59440      0\n",
       "4   0.32924   -4.4552    4.5718 -0.98880      0"
      ]
     },
     "execution_count": 20,
     "metadata": {},
     "output_type": "execute_result"
    }
   ],
   "source": [
    "features_name= [\"Variance\", \"Skewness\", \"Curtosis\", \"Entropy\", \"Class\"]  # These are the features list for our dataset\n",
    "banknote_data_set= pd.read_csv('data_banknote_authentication.csv', names= features_name)\n",
    "banknote_data_set.head(5) # geting a snapshot of our data"
   ]
  },
  {
   "cell_type": "markdown",
   "metadata": {
    "colab_type": "text",
    "id": "-H19h3H9IMvK"
   },
   "source": [
    "### Non-Numeric Values\n",
    "    Our dataset dosen't contain any Non-Numeric value so we don't have to worry about that.\n"
   ]
  },
  {
   "cell_type": "markdown",
   "metadata": {
    "colab_type": "text",
    "id": "G4VclPdMLTiY"
   },
   "source": [
    "### Null Value\n",
    "    Our dataset dose't have any null value so we don't have to wory about that."
   ]
  },
  {
   "cell_type": "markdown",
   "metadata": {
    "cell_style": "split",
    "colab_type": "text",
    "id": "DP1iV5zDMds8"
   },
   "source": [
    "### Standardization & Normalization\n",
    "    Our dataset contains continious values so the values in all the columns are not in same range so we are performing Normalization and the scale across all the data are also not same so one value may get uncondition prority than others thats why we are performing Standardization."
   ]
  },
  {
   "cell_type": "code",
   "execution_count": 21,
   "metadata": {
    "cell_style": "split",
    "colab": {
     "base_uri": "https://localhost:8080/",
     "height": 272
    },
    "colab_type": "code",
    "executionInfo": {
     "elapsed": 1296,
     "status": "ok",
     "timestamp": 1583913228173,
     "user": {
      "displayName": "Somdeep Jana",
      "photoUrl": "https://lh3.googleusercontent.com/a-/AOh14GjXWFWU6LAOctjP_oawRxxAfvdoVHQdiqBCxjxZug=s64",
      "userId": "02840926678953105957"
     },
     "user_tz": -330
    },
    "id": "NjLKeL3RSwJz",
    "outputId": "24b945e1-127e-4184-efe3-7f08de4ea2ef"
   },
   "outputs": [
    {
     "name": "stdout",
     "output_type": "stream",
     "text": [
      "No\tMean                \tStd       \n",
      " 1\t0.4337352570699707\t2.842762586278562\n",
      " 2\t1.9223531206393603\t5.869046743695522\n",
      " 3\t1.3976271172667651\t4.310030090106595\n"
     ]
    },
    {
     "data": {
      "text/html": [
       "<div>\n",
       "<style scoped>\n",
       "    .dataframe tbody tr th:only-of-type {\n",
       "        vertical-align: middle;\n",
       "    }\n",
       "\n",
       "    .dataframe tbody tr th {\n",
       "        vertical-align: top;\n",
       "    }\n",
       "\n",
       "    .dataframe thead th {\n",
       "        text-align: right;\n",
       "    }\n",
       "</style>\n",
       "<table border=\"1\" class=\"dataframe\">\n",
       "  <thead>\n",
       "    <tr style=\"text-align: right;\">\n",
       "      <th></th>\n",
       "      <th>Variance</th>\n",
       "      <th>Skewness</th>\n",
       "      <th>Curtosis</th>\n",
       "      <th>Entropy</th>\n",
       "      <th>Class</th>\n",
       "    </tr>\n",
       "  </thead>\n",
       "  <tbody>\n",
       "    <tr>\n",
       "      <td>0</td>\n",
       "      <td>1.121397</td>\n",
       "      <td>1.149036</td>\n",
       "      <td>-0.975614</td>\n",
       "      <td>-0.44699</td>\n",
       "      <td>0</td>\n",
       "    </tr>\n",
       "    <tr>\n",
       "      <td>1</td>\n",
       "      <td>1.446538</td>\n",
       "      <td>1.064065</td>\n",
       "      <td>-0.894710</td>\n",
       "      <td>-1.46210</td>\n",
       "      <td>0</td>\n",
       "    </tr>\n",
       "    <tr>\n",
       "      <td>2</td>\n",
       "      <td>1.207369</td>\n",
       "      <td>-0.777069</td>\n",
       "      <td>0.122174</td>\n",
       "      <td>0.10645</td>\n",
       "      <td>0</td>\n",
       "    </tr>\n",
       "    <tr>\n",
       "      <td>3</td>\n",
       "      <td>1.063355</td>\n",
       "      <td>1.295005</td>\n",
       "      <td>-1.254940</td>\n",
       "      <td>-3.59440</td>\n",
       "      <td>0</td>\n",
       "    </tr>\n",
       "    <tr>\n",
       "      <td>4</td>\n",
       "      <td>-0.036758</td>\n",
       "      <td>-1.086642</td>\n",
       "      <td>0.736462</td>\n",
       "      <td>-0.98880</td>\n",
       "      <td>0</td>\n",
       "    </tr>\n",
       "  </tbody>\n",
       "</table>\n",
       "</div>"
      ],
      "text/plain": [
       "   Variance  Skewness  Curtosis  Entropy  Class\n",
       "0  1.121397  1.149036 -0.975614 -0.44699      0\n",
       "1  1.446538  1.064065 -0.894710 -1.46210      0\n",
       "2  1.207369 -0.777069  0.122174  0.10645      0\n",
       "3  1.063355  1.295005 -1.254940 -3.59440      0\n",
       "4 -0.036758 -1.086642  0.736462 -0.98880      0"
      ]
     },
     "execution_count": 21,
     "metadata": {},
     "output_type": "execute_result"
    }
   ],
   "source": [
    "print(\"{0:2}\\t{1:20}\\t{2:10}\".format(\"No\", \"Mean\", \"Std\"))\n",
    "for column_name in features_name[0:3]:  # for all the columns except the last one\n",
    "  column_mean= banknote_data_set[column_name].mean()\n",
    "  print(\"{0:2d}\\t{1}\".format( features_name.index(column_name) + 1, column_mean), end=\"\\t\")\n",
    "\n",
    "  column_std= banknote_data_set[column_name].std()\n",
    "  print(\"{}\".format(column_std))\n",
    "\n",
    "  banknote_data_set[column_name]= (banknote_data_set[column_name]-column_mean)/column_std\n",
    "\n",
    "banknote_data_set.head(5)"
   ]
  },
  {
   "cell_type": "markdown",
   "metadata": {
    "cell_style": "split",
    "colab_type": "text",
    "id": "rkyiCFt_LYZ8"
   },
   "source": [
    "### Spliting the features and class colum\n",
    "    The imported data have all it's values in the same data frame table witch is hard to work with, so we are spliting it into two parts one is for features an another is for output classes.\n",
    "\n",
    "### Converting The Data Frame to ndArray\n",
    "    Working with pandas data frame is problematic and it may produce inconcistency with sklearn packages so we are converting the Data Frame to ndArray."
   ]
  },
  {
   "cell_type": "code",
   "execution_count": 22,
   "metadata": {
    "cell_style": "split",
    "colab": {
     "base_uri": "https://localhost:8080/",
     "height": 153
    },
    "colab_type": "code",
    "executionInfo": {
     "elapsed": 1160,
     "status": "ok",
     "timestamp": 1583911257523,
     "user": {
      "displayName": "Somdeep Jana",
      "photoUrl": "https://lh3.googleusercontent.com/a-/AOh14GjXWFWU6LAOctjP_oawRxxAfvdoVHQdiqBCxjxZug=s64",
      "userId": "02840926678953105957"
     },
     "user_tz": -330
    },
    "id": "pvm-5eL-Kmi0",
    "outputId": "bb8d358a-76df-4ff4-dcf4-3d8a4ef9e243"
   },
   "outputs": [
    {
     "name": "stdout",
     "output_type": "stream",
     "text": [
      "Features ndArray:  [[ 1.12139676  1.14903615 -0.97561433]\n",
      " [ 1.44653822  1.06406494 -0.89471002]\n",
      " [ 1.20736947 -0.7770688   0.12217383]\n",
      " ...\n",
      " [-1.47182015 -2.62069017  3.75764729]\n",
      " [-1.40617978 -1.75583081  2.55111279]\n",
      " [-1.04674069 -0.43966137  0.29850671]]\n",
      "\n",
      "Classes ndArray:  [0 0 0 ... 1 1 1]\n"
     ]
    }
   ],
   "source": [
    "features= banknote_data_set[features_name[0:3]].to_numpy()\n",
    "classes= banknote_data_set[features_name[-1]].to_numpy()\n",
    "\n",
    "print(\"Features ndArray: \", features, end=\"\\n\\n\")\n",
    "print(\"Classes ndArray: \", classes)"
   ]
  },
  {
   "cell_type": "code",
   "execution_count": null,
   "metadata": {
    "colab": {
     "base_uri": "https://localhost:8080/",
     "height": 34
    },
    "colab_type": "code",
    "executionInfo": {
     "elapsed": 1438,
     "status": "ok",
     "timestamp": 1583912300418,
     "user": {
      "displayName": "Somdeep Jana",
      "photoUrl": "https://lh3.googleusercontent.com/a-/AOh14GjXWFWU6LAOctjP_oawRxxAfvdoVHQdiqBCxjxZug=s64",
      "userId": "02840926678953105957"
     },
     "user_tz": -330
    },
    "id": "0tHYXsE9hdnl",
    "outputId": "47f0f744-f1f9-4736-8921-e15b6e86d3e3"
   },
   "outputs": [],
   "source": []
  }
 ],
 "metadata": {
  "colab": {
   "collapsed_sections": [
    "jvmP1y-MF83i"
   ],
   "name": "Banknote Authentication Model.ipynb",
   "provenance": []
  },
  "kernelspec": {
   "display_name": "Python 3",
   "language": "python",
   "name": "python3"
  },
  "language_info": {
   "codemirror_mode": {
    "name": "ipython",
    "version": 3
   },
   "file_extension": ".py",
   "mimetype": "text/x-python",
   "name": "python",
   "nbconvert_exporter": "python",
   "pygments_lexer": "ipython3",
   "version": "3.7.4"
  },
  "toc": {
   "base_numbering": 1,
   "nav_menu": {},
   "number_sections": true,
   "sideBar": true,
   "skip_h1_title": false,
   "title_cell": "Table of Contents",
   "title_sidebar": "Contents",
   "toc_cell": false,
   "toc_position": {},
   "toc_section_display": true,
   "toc_window_display": false
  }
 },
 "nbformat": 4,
 "nbformat_minor": 4
}
